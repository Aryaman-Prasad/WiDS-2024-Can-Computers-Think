{
  "cells": [
    {
      "cell_type": "markdown",
      "metadata": {
        "id": "xTcjSwvkdhqL"
      },
      "source": [
        "### Assignment : Week 1\n",
        "## Modeling simple RL problems by making their MDPs in Python\n",
        "\n",
        "We will create the MDPs for some of the example problems from Grokking textbook. For the simple environments, we can just hardcode the MDPs into a dictionary by exhaustively encoding the whole state space and the transition function. We will also go through a more complicated example where the state space is too large to be manually coded and we need to implement the transition function based on some state parameters.\n",
        "\n",
        "Later on, you will not need to implement the MDPs of common RL problems yourself, most of the work is already done by the OpenAI Gym library, which includes models for most of the famous RL envis.\n",
        "\n",
        "You can start this assignment during/after reading Grokking Ch-2."
      ]
    },
    {
      "cell_type": "markdown",
      "metadata": {
        "id": "HWwpKsPJdhqM"
      },
      "source": [
        "## Environment 0 - Bandit Walk\n",
        "\n",
        "Let us consider the BW environment on Page 39.\n",
        "\n",
        "State Space has 3 elements, states 0, 1 and 2.\n",
        "States 0 and 2 are terminal states and state 1 is the starting state.\n",
        "\n",
        "Action space has 2 elements, left and right.\n",
        "\n",
        "The environment is deterministic - transition probability of any action is 1.\n",
        "\n",
        "Only 1 (State, Action, State') tuple has positive reward, (1, Right, 2) gives the agent +1 reward."
      ]
    },
    {
      "cell_type": "markdown",
      "metadata": {
        "id": "Sa9MbJt-dhqM"
      },
      "source": [
        "We'll model this MDP as a dictionary. This code is an example for the upcoming exercises."
      ]
    },
    {
      "cell_type": "code",
      "execution_count": 1,
      "metadata": {
        "id": "BIYu6KnldhqM"
      },
      "outputs": [],
      "source": [
        "bw_mdp = {\n",
        "\n",
        "    0 : {\n",
        "        \"Right\" : [(1, 0, 0, True)],\n",
        "        \"Left\" : [(1, 0, 0, True)]\n",
        "    },\n",
        "\n",
        "    1 : {\n",
        "        \"Right\" : [(1, 2, 1, True)],\n",
        "        \"Left\" : [(1, 0, 0, True)]\n",
        "    },\n",
        "\n",
        "    2 : {\n",
        "        \"Right\" : [(1, 2, 0, True)],\n",
        "        \"Left\" : [(1, 2, 0, True)]\n",
        "    }\n",
        "\n",
        "}"
      ]
    },
    {
      "cell_type": "markdown",
      "metadata": {
        "id": "Fk1glo51dhqN"
      },
      "source": [
        "Note that by convention, all actions from terminal states still lead to the same state with reward 0."
      ]
    },
    {
      "cell_type": "markdown",
      "metadata": {
        "id": "WW5geoctdhqN"
      },
      "source": [
        "## Environment 1 - Slippery Walk\n",
        "\n",
        "Let us now look at the BSW environment on Page 40. We'll model a slightly modified version of BSW with 7 states instead (i.e the SWF envi on Page 67). It will be useful in the coming weeks.\n",
        "\n",
        "Here, states 0 and 6 are terminal states and state 3 is the starting state.\n",
        "\n",
        "Action space has again 2 elements, left and right.\n",
        "\n",
        "The environment is now stochastic, transition probability of any action is as follows -\n",
        "If agent chooses `Right` at a non-terminal state,\n",
        "- $50\\%$ times it will go to `Right` state\n",
        "- $33\\frac{1}{3} \\%$ times it will stay in same state\n",
        "- $16\\frac{2}{3}\\%$ times it will go to `Left`state\n",
        "\n",
        "This time, 2 different (State, Action, State') tuples have positive rewards, you need to find them."
      ]
    },
    {
      "cell_type": "markdown",
      "metadata": {
        "id": "9yUHP2mJdhqN"
      },
      "source": [
        "We'll again model this MDP as a dictionary. Part of the code is written for you."
      ]
    },
    {
      "cell_type": "code",
      "execution_count": 2,
      "metadata": {
        "id": "KLAfO8tfdhqN"
      },
      "outputs": [],
      "source": [
        "swf_mdp = {\n",
        "\n",
        "    0 : {\n",
        "        \"Right\" : [(1, 0, 0, True)],\n",
        "        \"Left\" : [(1, 0, 0, True)]\n",
        "    },\n",
        "\n",
        "    1 : {\n",
        "        \"Right\" : [\n",
        "            (1/2, 2, 0, False),\n",
        "            (1/3, 1, 0, False),\n",
        "            (1/6, 0, 0, True)\n",
        "        ],\n",
        "        \"Left\" : [\n",
        "            # to be added\n",
        "            (1/6, 2, 0, False),\n",
        "            (1/3, 1, 0, False),\n",
        "            (1/2, 0, 0, True)\n",
        "        ]\n",
        "    },\n",
        "\n",
        "    # to be added\n",
        "    2 : {\n",
        "        \"Right\" : [\n",
        "            (1/2, 3, 0, False),\n",
        "            (1/3, 2, 0, False),\n",
        "            (1/6, 1, 0, False)\n",
        "        ],\n",
        "        \"Left\" : [\n",
        "            (1/6, 3, 0, False),\n",
        "            (1/3, 2, 0, False),\n",
        "            (1/2, 1, 0, False)\n",
        "        ]\n",
        "    },\n",
        "    3 : {\n",
        "        \"Right\" : [\n",
        "            (1/2, 4, 0, False),\n",
        "            (1/3, 3, 0, False),\n",
        "            (1/6, 2, 0, False)\n",
        "        ],\n",
        "        \"Left\" : [\n",
        "            (1/6, 4, 0, False),\n",
        "            (1/3, 3, 0, False),\n",
        "            (1/2, 2, 0, False)\n",
        "        ]\n",
        "    },\n",
        "    4 : {\n",
        "        \"Right\" : [\n",
        "            (1/2, 5, 0, False),\n",
        "            (1/3, 4, 0, False),\n",
        "            (1/6, 3, 0, False)\n",
        "        ],\n",
        "        \"Left\" : [\n",
        "            (1/6, 5, 0, False),\n",
        "            (1/3, 4, 0, False),\n",
        "            (1/2, 3, 0, False)\n",
        "        ]\n",
        "    },\n",
        "    5 : {\n",
        "        \"Right\" : [\n",
        "            (1/2, 6, 1, True),\n",
        "            (1/3, 5, 0, False),\n",
        "            (1/6, 4, 0, False)\n",
        "        ],\n",
        "        \"Left\" : [\n",
        "            (1/6, 6, 1, True),\n",
        "            (1/3, 5, 0, False),\n",
        "            (1/2, 4, 0, False)\n",
        "        ]\n",
        "    },\n",
        "    6 : {\n",
        "        \"Right\" : [(1, 6, 0, True)],\n",
        "        \"Left\" : [(1, 6, 0, True)]\n",
        "    },\n",
        "\n",
        "}"
      ]
    },
    {
      "cell_type": "markdown",
      "metadata": {
        "id": "NJucp60_dhqN"
      },
      "source": [
        "Feel free to automate filling this MDP, but ensure that it is correctly filled as it'll be back in next week's assignment."
      ]
    },
    {
      "cell_type": "markdown",
      "metadata": {
        "id": "blsx689ydhqN"
      },
      "source": [
        "## Environment 2 - Frozen Lake Environment\n",
        "\n",
        "This environment is described on Page 46.\n",
        "\n",
        "The FL environment has a large state space, so it's better to generate most of the MDP via Python instead of typing stuff manually.\n",
        "\n",
        "Note that all 5 states - 5, 7, 11, 12, 15 are terminal states, so keep that in mind while constructing the MDP.\n",
        "\n",
        "There are 4 actions now - Up, Down, Left, Right.\n",
        "\n",
        "The environment is stochastic, and states at the border of lake will require separate treatment.\n",
        "\n"
      ]
    },
    {
      "cell_type": "markdown",
      "metadata": {
        "id": "GuXPGLhqdhqN"
      },
      "source": [
        "Yet again we will model this MDP as a (large) dictionary."
      ]
    },
    {
      "cell_type": "code",
      "execution_count": 34,
      "metadata": {
        "id": "POwcWotNdhqN",
        "colab": {
          "base_uri": "https://localhost:8080/"
        },
        "outputId": "f9f36c7d-603a-4540-f7f8-43faf42ceb1f"
      },
      "outputs": [
        {
          "output_type": "stream",
          "name": "stderr",
          "text": [
            "/usr/local/lib/python3.10/dist-packages/ipykernel/ipkernel.py:283: DeprecationWarning: `should_run_async` will not call `transform_cell` automatically in the future. Please pass the result to `transformed_cell` argument and any exception that happen during thetransform in `preprocessing_exc_tuple` in IPython 7.17 and above.\n",
            "  and should_run_async(code)\n"
          ]
        }
      ],
      "source": [
        "fl_mdp = {\n",
        "    # to be added\n",
        "    0 : {},\n",
        "    1 : {},\n",
        "    2 : {},\n",
        "    3 : {},\n",
        "    4 : {},\n",
        "    5 : {},\n",
        "    6 : {},\n",
        "    7 : {},\n",
        "    8 : {},\n",
        "    9 : {},\n",
        "    10 : {},\n",
        "    11 : {},\n",
        "    12 : {},\n",
        "    13 : {},\n",
        "    14 : {},\n",
        "    15 : {}\n",
        "}"
      ]
    },
    {
      "cell_type": "code",
      "execution_count": 35,
      "metadata": {
        "id": "-xjqWphzdhqN"
      },
      "outputs": [],
      "source": [
        "for state in range(0, 16):\n",
        "    action_map = {0:\"Up\", 1:\"Down\", 2:\"Right\", 3:\"Left\"}\n",
        "    # add transitions to other states\n",
        "    transitions = {\"Up\" : [], \"Down\" : [], \"Right\" : [], \"Left\" : []}\n",
        "    actions = [-4, 4, 1, -1]\n",
        "    for action in range(4):\n",
        "        # do work\n",
        "        transitions[action_map[action]].append((1/3, state + actions[action], 0, False))\n",
        "        transitions[action_map[action]].append((1/3, state + actions[(action+2)%4], 0, False))\n",
        "        transitions[action_map[action]].append((1/3, state + actions[3-action], 0, False))\n",
        "\n",
        "    if state%4==0:\n",
        "      transitions[\"Up\"][2] = (1/3, state, 0, False)\n",
        "      transitions[\"Down\"][1] = (1/3, state, 0, False)\n",
        "      transitions[\"Left\"][0] = (1/3, state, 0, False)\n",
        "    if state&4==3:\n",
        "      transitions[\"Up\"][1] = (1/3, state, 0, False)\n",
        "      transitions[\"Down\"][2] = (1/3, state, 0, False)\n",
        "      transitions[\"Right\"][0] = (1/3, state, 0, False)\n",
        "    if state//4==0:\n",
        "      transitions[\"Left\"][2] = (1/3, state, 0, False)\n",
        "      transitions[\"Right\"][1] = (1/3, state, 0, False)\n",
        "      transitions[\"Up\"][0] = (1/3, state, 0, False)\n",
        "    if state//4==3:\n",
        "      transitions[\"Left\"][1] = (1/3, state, 0, False)\n",
        "      transitions[\"Right\"][2] = (1/3, state, 0, False)\n",
        "      transitions[\"Down\"][0] = (1/3, state, 0, False)\n",
        "\n",
        "\n",
        "    for i in transitions:\n",
        "      for l in range(len(transitions[i])):\n",
        "        if transitions[i][l][1] in [5, 7, 11, 12]:\n",
        "          transitions[i][l] = (1/3, transitions[i][l][1], 0, True)\n",
        "        elif transitions[i][l][1]==15 :\n",
        "          transitions[i][l] = (1/3, transitions[i][l][1], 1, True)\n",
        "\n",
        "    if state in [5, 7, 11, 12, 15]:\n",
        "      transitions[\"Up\"] = [(1, state, 0, True)]\n",
        "      transitions[\"Down\"] = [(1, state, 0, True)]\n",
        "      transitions[\"Left\"] = [(1, state, 0, True)]\n",
        "      transitions[\"Right\"] = [(1, state, 0, True)]\n",
        "\n",
        "\n",
        "\n",
        "    fl_mdp[state] = transitions"
      ]
    },
    {
      "cell_type": "code",
      "source": [
        "fl_mdp"
      ],
      "metadata": {
        "colab": {
          "base_uri": "https://localhost:8080/"
        },
        "id": "Bo1FSSfVJ8wa",
        "outputId": "8307472b-19c0-4d5a-c9ac-102d34de401e"
      },
      "execution_count": 36,
      "outputs": [
        {
          "output_type": "execute_result",
          "data": {
            "text/plain": [
              "{0: {'Up': [(0.3333333333333333, 0, 0, False),\n",
              "   (0.3333333333333333, 1, 0, False),\n",
              "   (0.3333333333333333, 0, 0, False)],\n",
              "  'Down': [(0.3333333333333333, 4, 0, False),\n",
              "   (0.3333333333333333, 0, 0, False),\n",
              "   (0.3333333333333333, 1, 0, False)],\n",
              "  'Right': [(0.3333333333333333, 1, 0, False),\n",
              "   (0.3333333333333333, 0, 0, False),\n",
              "   (0.3333333333333333, 4, 0, False)],\n",
              "  'Left': [(0.3333333333333333, 0, 0, False),\n",
              "   (0.3333333333333333, 4, 0, False),\n",
              "   (0.3333333333333333, 0, 0, False)]},\n",
              " 1: {'Up': [(0.3333333333333333, 1, 0, False),\n",
              "   (0.3333333333333333, 2, 0, False),\n",
              "   (0.3333333333333333, 0, 0, False)],\n",
              "  'Down': [(0.3333333333333333, 5, 0, True),\n",
              "   (0.3333333333333333, 0, 0, False),\n",
              "   (0.3333333333333333, 2, 0, False)],\n",
              "  'Right': [(0.3333333333333333, 2, 0, False),\n",
              "   (0.3333333333333333, 1, 0, False),\n",
              "   (0.3333333333333333, 5, 0, True)],\n",
              "  'Left': [(0.3333333333333333, 0, 0, False),\n",
              "   (0.3333333333333333, 5, 0, True),\n",
              "   (0.3333333333333333, 1, 0, False)]},\n",
              " 2: {'Up': [(0.3333333333333333, 2, 0, False),\n",
              "   (0.3333333333333333, 3, 0, False),\n",
              "   (0.3333333333333333, 1, 0, False)],\n",
              "  'Down': [(0.3333333333333333, 6, 0, False),\n",
              "   (0.3333333333333333, 1, 0, False),\n",
              "   (0.3333333333333333, 3, 0, False)],\n",
              "  'Right': [(0.3333333333333333, 3, 0, False),\n",
              "   (0.3333333333333333, 2, 0, False),\n",
              "   (0.3333333333333333, 6, 0, False)],\n",
              "  'Left': [(0.3333333333333333, 1, 0, False),\n",
              "   (0.3333333333333333, 6, 0, False),\n",
              "   (0.3333333333333333, 2, 0, False)]},\n",
              " 3: {'Up': [(0.3333333333333333, 3, 0, False),\n",
              "   (0.3333333333333333, 4, 0, False),\n",
              "   (0.3333333333333333, 2, 0, False)],\n",
              "  'Down': [(0.3333333333333333, 7, 0, True),\n",
              "   (0.3333333333333333, 2, 0, False),\n",
              "   (0.3333333333333333, 4, 0, False)],\n",
              "  'Right': [(0.3333333333333333, 4, 0, False),\n",
              "   (0.3333333333333333, 3, 0, False),\n",
              "   (0.3333333333333333, 7, 0, True)],\n",
              "  'Left': [(0.3333333333333333, 2, 0, False),\n",
              "   (0.3333333333333333, 7, 0, True),\n",
              "   (0.3333333333333333, 3, 0, False)]},\n",
              " 4: {'Up': [(0.3333333333333333, 0, 0, False),\n",
              "   (0.3333333333333333, 5, 0, True),\n",
              "   (0.3333333333333333, 4, 0, False)],\n",
              "  'Down': [(0.3333333333333333, 8, 0, False),\n",
              "   (0.3333333333333333, 4, 0, False),\n",
              "   (0.3333333333333333, 5, 0, True)],\n",
              "  'Right': [(0.3333333333333333, 5, 0, True),\n",
              "   (0.3333333333333333, 0, 0, False),\n",
              "   (0.3333333333333333, 8, 0, False)],\n",
              "  'Left': [(0.3333333333333333, 4, 0, False),\n",
              "   (0.3333333333333333, 8, 0, False),\n",
              "   (0.3333333333333333, 0, 0, False)]},\n",
              " 5: {'Up': [(1, 5, 0, True)],\n",
              "  'Down': [(1, 5, 0, True)],\n",
              "  'Right': [(1, 5, 0, True)],\n",
              "  'Left': [(1, 5, 0, True)]},\n",
              " 6: {'Up': [(0.3333333333333333, 2, 0, False),\n",
              "   (0.3333333333333333, 7, 0, True),\n",
              "   (0.3333333333333333, 5, 0, True)],\n",
              "  'Down': [(0.3333333333333333, 10, 0, False),\n",
              "   (0.3333333333333333, 5, 0, True),\n",
              "   (0.3333333333333333, 7, 0, True)],\n",
              "  'Right': [(0.3333333333333333, 7, 0, True),\n",
              "   (0.3333333333333333, 2, 0, False),\n",
              "   (0.3333333333333333, 10, 0, False)],\n",
              "  'Left': [(0.3333333333333333, 5, 0, True),\n",
              "   (0.3333333333333333, 10, 0, False),\n",
              "   (0.3333333333333333, 2, 0, False)]},\n",
              " 7: {'Up': [(1, 7, 0, True)],\n",
              "  'Down': [(1, 7, 0, True)],\n",
              "  'Right': [(1, 7, 0, True)],\n",
              "  'Left': [(1, 7, 0, True)]},\n",
              " 8: {'Up': [(0.3333333333333333, 4, 0, False),\n",
              "   (0.3333333333333333, 9, 0, False),\n",
              "   (0.3333333333333333, 8, 0, False)],\n",
              "  'Down': [(0.3333333333333333, 12, 0, True),\n",
              "   (0.3333333333333333, 8, 0, False),\n",
              "   (0.3333333333333333, 9, 0, False)],\n",
              "  'Right': [(0.3333333333333333, 9, 0, False),\n",
              "   (0.3333333333333333, 4, 0, False),\n",
              "   (0.3333333333333333, 12, 0, True)],\n",
              "  'Left': [(0.3333333333333333, 8, 0, False),\n",
              "   (0.3333333333333333, 12, 0, True),\n",
              "   (0.3333333333333333, 4, 0, False)]},\n",
              " 9: {'Up': [(0.3333333333333333, 5, 0, True),\n",
              "   (0.3333333333333333, 10, 0, False),\n",
              "   (0.3333333333333333, 8, 0, False)],\n",
              "  'Down': [(0.3333333333333333, 13, 0, False),\n",
              "   (0.3333333333333333, 8, 0, False),\n",
              "   (0.3333333333333333, 10, 0, False)],\n",
              "  'Right': [(0.3333333333333333, 10, 0, False),\n",
              "   (0.3333333333333333, 5, 0, True),\n",
              "   (0.3333333333333333, 13, 0, False)],\n",
              "  'Left': [(0.3333333333333333, 8, 0, False),\n",
              "   (0.3333333333333333, 13, 0, False),\n",
              "   (0.3333333333333333, 5, 0, True)]},\n",
              " 10: {'Up': [(0.3333333333333333, 6, 0, False),\n",
              "   (0.3333333333333333, 11, 0, True),\n",
              "   (0.3333333333333333, 9, 0, False)],\n",
              "  'Down': [(0.3333333333333333, 14, 0, False),\n",
              "   (0.3333333333333333, 9, 0, False),\n",
              "   (0.3333333333333333, 11, 0, True)],\n",
              "  'Right': [(0.3333333333333333, 11, 0, True),\n",
              "   (0.3333333333333333, 6, 0, False),\n",
              "   (0.3333333333333333, 14, 0, False)],\n",
              "  'Left': [(0.3333333333333333, 9, 0, False),\n",
              "   (0.3333333333333333, 14, 0, False),\n",
              "   (0.3333333333333333, 6, 0, False)]},\n",
              " 11: {'Up': [(1, 11, 0, True)],\n",
              "  'Down': [(1, 11, 0, True)],\n",
              "  'Right': [(1, 11, 0, True)],\n",
              "  'Left': [(1, 11, 0, True)]},\n",
              " 12: {'Up': [(1, 12, 0, True)],\n",
              "  'Down': [(1, 12, 0, True)],\n",
              "  'Right': [(1, 12, 0, True)],\n",
              "  'Left': [(1, 12, 0, True)]},\n",
              " 13: {'Up': [(0.3333333333333333, 9, 0, False),\n",
              "   (0.3333333333333333, 14, 0, False),\n",
              "   (0.3333333333333333, 12, 0, True)],\n",
              "  'Down': [(0.3333333333333333, 13, 0, False),\n",
              "   (0.3333333333333333, 12, 0, True),\n",
              "   (0.3333333333333333, 14, 0, False)],\n",
              "  'Right': [(0.3333333333333333, 14, 0, False),\n",
              "   (0.3333333333333333, 9, 0, False),\n",
              "   (0.3333333333333333, 13, 0, False)],\n",
              "  'Left': [(0.3333333333333333, 12, 0, True),\n",
              "   (0.3333333333333333, 13, 0, False),\n",
              "   (0.3333333333333333, 9, 0, False)]},\n",
              " 14: {'Up': [(0.3333333333333333, 10, 0, False),\n",
              "   (0.3333333333333333, 15, 1, True),\n",
              "   (0.3333333333333333, 13, 0, False)],\n",
              "  'Down': [(0.3333333333333333, 14, 0, False),\n",
              "   (0.3333333333333333, 13, 0, False),\n",
              "   (0.3333333333333333, 15, 1, True)],\n",
              "  'Right': [(0.3333333333333333, 15, 1, True),\n",
              "   (0.3333333333333333, 10, 0, False),\n",
              "   (0.3333333333333333, 14, 0, False)],\n",
              "  'Left': [(0.3333333333333333, 13, 0, False),\n",
              "   (0.3333333333333333, 14, 0, False),\n",
              "   (0.3333333333333333, 10, 0, False)]},\n",
              " 15: {'Up': [(1, 15, 0, True)],\n",
              "  'Down': [(1, 15, 0, True)],\n",
              "  'Right': [(1, 15, 0, True)],\n",
              "  'Left': [(1, 15, 0, True)]}}"
            ]
          },
          "metadata": {},
          "execution_count": 36
        }
      ]
    },
    {
      "cell_type": "markdown",
      "metadata": {
        "id": "EQyCc7L7dhqO"
      },
      "source": [
        "You might need to do some stuff manually, but make sure to automate most of it."
      ]
    },
    {
      "cell_type": "markdown",
      "metadata": {
        "id": "pleOpYPOdhqO"
      },
      "source": [
        "You can check your implementation of the FL environment by comparing it with the one in OpenAI Gym.\n",
        "\n",
        "You don't need to worry about Gym right now, we'll set it up in the coming weeks. But here is the code to import an MDP."
      ]
    },
    {
      "cell_type": "code",
      "execution_count": 5,
      "metadata": {
        "colab": {
          "base_uri": "https://localhost:8080/"
        },
        "id": "wq4eCiLmdhqO",
        "outputId": "d2b713bf-b18c-4bf2-aa26-0db90d6a552c"
      },
      "outputs": [
        {
          "output_type": "stream",
          "name": "stderr",
          "text": [
            "/usr/local/lib/python3.10/dist-packages/gym/core.py:317: DeprecationWarning: \u001b[33mWARN: Initializing wrapper in old step API which returns one bool instead of two. It is recommended to set `new_step_api=True` to use new step API. This will be the default behaviour in future.\u001b[0m\n",
            "  deprecation(\n",
            "/usr/local/lib/python3.10/dist-packages/gym/wrappers/step_api_compatibility.py:39: DeprecationWarning: \u001b[33mWARN: Initializing environment in old step API which returns one bool instead of two. It is recommended to set `new_step_api=True` to use new step API. This will be the default behaviour in future.\u001b[0m\n",
            "  deprecation(\n"
          ]
        }
      ],
      "source": [
        "import gym\n",
        "P = gym.make('FrozenLake-v1').env.P"
      ]
    },
    {
      "cell_type": "markdown",
      "metadata": {
        "id": "0ViVS6DRdhqO"
      },
      "source": [
        "Since the imported MDP is also just a dictionary, we can just print it."
      ]
    },
    {
      "cell_type": "code",
      "execution_count": 6,
      "metadata": {
        "colab": {
          "base_uri": "https://localhost:8080/"
        },
        "id": "UY6_i6M4dhqO",
        "outputId": "05a09370-5258-41bd-d58a-50950e1cd17c"
      },
      "outputs": [
        {
          "output_type": "stream",
          "name": "stdout",
          "text": [
            "{0: {0: [(0.3333333333333333, 0, 0.0, False),\n",
            "         (0.3333333333333333, 0, 0.0, False),\n",
            "         (0.3333333333333333, 4, 0.0, False)],\n",
            "     1: [(0.3333333333333333, 0, 0.0, False),\n",
            "         (0.3333333333333333, 4, 0.0, False),\n",
            "         (0.3333333333333333, 1, 0.0, False)],\n",
            "     2: [(0.3333333333333333, 4, 0.0, False),\n",
            "         (0.3333333333333333, 1, 0.0, False),\n",
            "         (0.3333333333333333, 0, 0.0, False)],\n",
            "     3: [(0.3333333333333333, 1, 0.0, False),\n",
            "         (0.3333333333333333, 0, 0.0, False),\n",
            "         (0.3333333333333333, 0, 0.0, False)]},\n",
            " 1: {0: [(0.3333333333333333, 1, 0.0, False),\n",
            "         (0.3333333333333333, 0, 0.0, False),\n",
            "         (0.3333333333333333, 5, 0.0, True)],\n",
            "     1: [(0.3333333333333333, 0, 0.0, False),\n",
            "         (0.3333333333333333, 5, 0.0, True),\n",
            "         (0.3333333333333333, 2, 0.0, False)],\n",
            "     2: [(0.3333333333333333, 5, 0.0, True),\n",
            "         (0.3333333333333333, 2, 0.0, False),\n",
            "         (0.3333333333333333, 1, 0.0, False)],\n",
            "     3: [(0.3333333333333333, 2, 0.0, False),\n",
            "         (0.3333333333333333, 1, 0.0, False),\n",
            "         (0.3333333333333333, 0, 0.0, False)]},\n",
            " 2: {0: [(0.3333333333333333, 2, 0.0, False),\n",
            "         (0.3333333333333333, 1, 0.0, False),\n",
            "         (0.3333333333333333, 6, 0.0, False)],\n",
            "     1: [(0.3333333333333333, 1, 0.0, False),\n",
            "         (0.3333333333333333, 6, 0.0, False),\n",
            "         (0.3333333333333333, 3, 0.0, False)],\n",
            "     2: [(0.3333333333333333, 6, 0.0, False),\n",
            "         (0.3333333333333333, 3, 0.0, False),\n",
            "         (0.3333333333333333, 2, 0.0, False)],\n",
            "     3: [(0.3333333333333333, 3, 0.0, False),\n",
            "         (0.3333333333333333, 2, 0.0, False),\n",
            "         (0.3333333333333333, 1, 0.0, False)]},\n",
            " 3: {0: [(0.3333333333333333, 3, 0.0, False),\n",
            "         (0.3333333333333333, 2, 0.0, False),\n",
            "         (0.3333333333333333, 7, 0.0, True)],\n",
            "     1: [(0.3333333333333333, 2, 0.0, False),\n",
            "         (0.3333333333333333, 7, 0.0, True),\n",
            "         (0.3333333333333333, 3, 0.0, False)],\n",
            "     2: [(0.3333333333333333, 7, 0.0, True),\n",
            "         (0.3333333333333333, 3, 0.0, False),\n",
            "         (0.3333333333333333, 3, 0.0, False)],\n",
            "     3: [(0.3333333333333333, 3, 0.0, False),\n",
            "         (0.3333333333333333, 3, 0.0, False),\n",
            "         (0.3333333333333333, 2, 0.0, False)]},\n",
            " 4: {0: [(0.3333333333333333, 0, 0.0, False),\n",
            "         (0.3333333333333333, 4, 0.0, False),\n",
            "         (0.3333333333333333, 8, 0.0, False)],\n",
            "     1: [(0.3333333333333333, 4, 0.0, False),\n",
            "         (0.3333333333333333, 8, 0.0, False),\n",
            "         (0.3333333333333333, 5, 0.0, True)],\n",
            "     2: [(0.3333333333333333, 8, 0.0, False),\n",
            "         (0.3333333333333333, 5, 0.0, True),\n",
            "         (0.3333333333333333, 0, 0.0, False)],\n",
            "     3: [(0.3333333333333333, 5, 0.0, True),\n",
            "         (0.3333333333333333, 0, 0.0, False),\n",
            "         (0.3333333333333333, 4, 0.0, False)]},\n",
            " 5: {0: [(1.0, 5, 0, True)],\n",
            "     1: [(1.0, 5, 0, True)],\n",
            "     2: [(1.0, 5, 0, True)],\n",
            "     3: [(1.0, 5, 0, True)]},\n",
            " 6: {0: [(0.3333333333333333, 2, 0.0, False),\n",
            "         (0.3333333333333333, 5, 0.0, True),\n",
            "         (0.3333333333333333, 10, 0.0, False)],\n",
            "     1: [(0.3333333333333333, 5, 0.0, True),\n",
            "         (0.3333333333333333, 10, 0.0, False),\n",
            "         (0.3333333333333333, 7, 0.0, True)],\n",
            "     2: [(0.3333333333333333, 10, 0.0, False),\n",
            "         (0.3333333333333333, 7, 0.0, True),\n",
            "         (0.3333333333333333, 2, 0.0, False)],\n",
            "     3: [(0.3333333333333333, 7, 0.0, True),\n",
            "         (0.3333333333333333, 2, 0.0, False),\n",
            "         (0.3333333333333333, 5, 0.0, True)]},\n",
            " 7: {0: [(1.0, 7, 0, True)],\n",
            "     1: [(1.0, 7, 0, True)],\n",
            "     2: [(1.0, 7, 0, True)],\n",
            "     3: [(1.0, 7, 0, True)]},\n",
            " 8: {0: [(0.3333333333333333, 4, 0.0, False),\n",
            "         (0.3333333333333333, 8, 0.0, False),\n",
            "         (0.3333333333333333, 12, 0.0, True)],\n",
            "     1: [(0.3333333333333333, 8, 0.0, False),\n",
            "         (0.3333333333333333, 12, 0.0, True),\n",
            "         (0.3333333333333333, 9, 0.0, False)],\n",
            "     2: [(0.3333333333333333, 12, 0.0, True),\n",
            "         (0.3333333333333333, 9, 0.0, False),\n",
            "         (0.3333333333333333, 4, 0.0, False)],\n",
            "     3: [(0.3333333333333333, 9, 0.0, False),\n",
            "         (0.3333333333333333, 4, 0.0, False),\n",
            "         (0.3333333333333333, 8, 0.0, False)]},\n",
            " 9: {0: [(0.3333333333333333, 5, 0.0, True),\n",
            "         (0.3333333333333333, 8, 0.0, False),\n",
            "         (0.3333333333333333, 13, 0.0, False)],\n",
            "     1: [(0.3333333333333333, 8, 0.0, False),\n",
            "         (0.3333333333333333, 13, 0.0, False),\n",
            "         (0.3333333333333333, 10, 0.0, False)],\n",
            "     2: [(0.3333333333333333, 13, 0.0, False),\n",
            "         (0.3333333333333333, 10, 0.0, False),\n",
            "         (0.3333333333333333, 5, 0.0, True)],\n",
            "     3: [(0.3333333333333333, 10, 0.0, False),\n",
            "         (0.3333333333333333, 5, 0.0, True),\n",
            "         (0.3333333333333333, 8, 0.0, False)]},\n",
            " 10: {0: [(0.3333333333333333, 6, 0.0, False),\n",
            "          (0.3333333333333333, 9, 0.0, False),\n",
            "          (0.3333333333333333, 14, 0.0, False)],\n",
            "      1: [(0.3333333333333333, 9, 0.0, False),\n",
            "          (0.3333333333333333, 14, 0.0, False),\n",
            "          (0.3333333333333333, 11, 0.0, True)],\n",
            "      2: [(0.3333333333333333, 14, 0.0, False),\n",
            "          (0.3333333333333333, 11, 0.0, True),\n",
            "          (0.3333333333333333, 6, 0.0, False)],\n",
            "      3: [(0.3333333333333333, 11, 0.0, True),\n",
            "          (0.3333333333333333, 6, 0.0, False),\n",
            "          (0.3333333333333333, 9, 0.0, False)]},\n",
            " 11: {0: [(1.0, 11, 0, True)],\n",
            "      1: [(1.0, 11, 0, True)],\n",
            "      2: [(1.0, 11, 0, True)],\n",
            "      3: [(1.0, 11, 0, True)]},\n",
            " 12: {0: [(1.0, 12, 0, True)],\n",
            "      1: [(1.0, 12, 0, True)],\n",
            "      2: [(1.0, 12, 0, True)],\n",
            "      3: [(1.0, 12, 0, True)]},\n",
            " 13: {0: [(0.3333333333333333, 9, 0.0, False),\n",
            "          (0.3333333333333333, 12, 0.0, True),\n",
            "          (0.3333333333333333, 13, 0.0, False)],\n",
            "      1: [(0.3333333333333333, 12, 0.0, True),\n",
            "          (0.3333333333333333, 13, 0.0, False),\n",
            "          (0.3333333333333333, 14, 0.0, False)],\n",
            "      2: [(0.3333333333333333, 13, 0.0, False),\n",
            "          (0.3333333333333333, 14, 0.0, False),\n",
            "          (0.3333333333333333, 9, 0.0, False)],\n",
            "      3: [(0.3333333333333333, 14, 0.0, False),\n",
            "          (0.3333333333333333, 9, 0.0, False),\n",
            "          (0.3333333333333333, 12, 0.0, True)]},\n",
            " 14: {0: [(0.3333333333333333, 10, 0.0, False),\n",
            "          (0.3333333333333333, 13, 0.0, False),\n",
            "          (0.3333333333333333, 14, 0.0, False)],\n",
            "      1: [(0.3333333333333333, 13, 0.0, False),\n",
            "          (0.3333333333333333, 14, 0.0, False),\n",
            "          (0.3333333333333333, 15, 1.0, True)],\n",
            "      2: [(0.3333333333333333, 14, 0.0, False),\n",
            "          (0.3333333333333333, 15, 1.0, True),\n",
            "          (0.3333333333333333, 10, 0.0, False)],\n",
            "      3: [(0.3333333333333333, 15, 1.0, True),\n",
            "          (0.3333333333333333, 10, 0.0, False),\n",
            "          (0.3333333333333333, 13, 0.0, False)]},\n",
            " 15: {0: [(1.0, 15, 0, True)],\n",
            "      1: [(1.0, 15, 0, True)],\n",
            "      2: [(1.0, 15, 0, True)],\n",
            "      3: [(1.0, 15, 0, True)]}}\n"
          ]
        },
        {
          "output_type": "stream",
          "name": "stderr",
          "text": [
            "/usr/local/lib/python3.10/dist-packages/ipykernel/ipkernel.py:283: DeprecationWarning: `should_run_async` will not call `transform_cell` automatically in the future. Please pass the result to `transformed_cell` argument and any exception that happen during thetransform in `preprocessing_exc_tuple` in IPython 7.17 and above.\n",
            "  and should_run_async(code)\n"
          ]
        }
      ],
      "source": [
        "# using the pretty print module\n",
        "\n",
        "import pprint\n",
        "pprint.pprint(P)"
      ]
    }
  ],
  "metadata": {
    "kernelspec": {
      "display_name": "Python 3",
      "language": "python",
      "name": "python3"
    },
    "language_info": {
      "codemirror_mode": {
        "name": "ipython",
        "version": 3
      },
      "file_extension": ".py",
      "mimetype": "text/x-python",
      "name": "python",
      "nbconvert_exporter": "python",
      "pygments_lexer": "ipython3",
      "version": "3.11.2"
    },
    "colab": {
      "provenance": []
    }
  },
  "nbformat": 4,
  "nbformat_minor": 0
}